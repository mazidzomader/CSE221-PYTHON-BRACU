{
  "cells": [
    {
      "cell_type": "code",
      "execution_count": null,
      "metadata": {
        "id": "wKe8xArdAShi",
        "outputId": "437439d1-cec2-4d88-b3f6-bee8469e4440"
      },
      "outputs": [
        {
          "name": "stdout",
          "output_type": "stream",
          "text": [
            "3\n",
            "1 2 3 4 5\n"
          ]
        }
      ],
      "source": [
        "def merge(a, b, ):\n",
        "    # write your code here\n",
        "    # a and b are two sorted list\n",
        "    # merge function will return a sorted list after merging a and b\n",
        "    i, j, x, y, inv =0, 0, len(a), len(b), 0\n",
        "    arr= []\n",
        "    while (i < x and j < y):\n",
        "        if a[i] < b[j]:\n",
        "            arr.append(a[i])\n",
        "            i += 1\n",
        "        else :\n",
        "            arr.append(b[j])\n",
        "            j += 1\n",
        "            inv += x-i\n",
        "    while i < x :\n",
        "        arr.append(a[i])\n",
        "        i += 1\n",
        "    while j < y :\n",
        "        arr.append(b[j])\n",
        "        j += 1\n",
        "    return inv, arr\n",
        "\n",
        "\n",
        "def mergeSort(arr):\n",
        "    if len(arr) <= 1:\n",
        "        return (0, arr)\n",
        "    else:\n",
        "        mid = len(arr)//2\n",
        "        a1 = mergeSort(arr[0: mid])  # write the parameter\n",
        "        a2 = mergeSort(arr[mid:])  # write the parameter\n",
        "        mer=  merge(a1[1], a2[1])\n",
        "        return (mer[0]+a1[0]+a2[0], mer[1])\n",
        "n = int(input())\n",
        "arr= list(map(int, input().split()))\n",
        "inv, res = mergeSort(arr)\n",
        "print(inv)\n",
        "print(*res)"
      ]
    },
    {
      "cell_type": "code",
      "execution_count": null,
      "metadata": {
        "id": "2SDhdkAHAShk"
      },
      "outputs": [],
      "source": [
        "n = int(input())\n",
        "arr= list(map(int, input().split()))\n",
        "temp = []\n",
        "for i in range(len(arr)):\n",
        "    temp.append((abs(arr[i]), i))\n",
        "\n",
        "temp.sort()\n",
        "j = temp[-1]\n",
        "temp.remove(j)\n",
        "k = max(arr[:j[1]])\n",
        "print((j[0]**2) + k)\n",
        "\n",
        "# This solution is OK. But this is not d&c approach"
      ]
    },
    {
      "cell_type": "code",
      "execution_count": null,
      "metadata": {
        "id": "nRsj33NgAShk",
        "outputId": "5a3e4487-142d-436e-dd03-282aecf6f09a"
      },
      "outputs": [
        {
          "name": "stdout",
          "output_type": "stream",
          "text": [
            "1000000\n"
          ]
        }
      ],
      "source": [
        "def fast_mod_drift(a, b):\n",
        "    if b%2 == 0:\n",
        "        return (a**(b//2)**2)\n",
        "    return a*(a**(b-1))\n",
        "print(fast_mod_drift(100, 3))"
      ]
    },
    {
      "cell_type": "code",
      "execution_count": null,
      "metadata": {
        "id": "fIVDnqxyAShk"
      },
      "outputs": [],
      "source": [
        "def fast_mod_drift(a, b):\n",
        "    # Base case: any number to the power of 0 is 1\n",
        "    if b == 0:\n",
        "        return 1\n",
        "\n",
        "    # Divide: Calculate power for half of the exponent\n",
        "    half = fast_mod_drift(a, b // 2)\n",
        "\n",
        "    # Conquer: Square the result if b is even, multiply by a if b is odd\n",
        "    if b % 2 == 0:\n",
        "        return half * half  # Even exponent\n",
        "    else:\n",
        "        return a * half * half  # Odd exponent\n",
        "\n",
        "# Read the input values\n",
        "a, b = map(int, input().split())\n",
        "\n",
        "# Compute a^b using the fast_mod function\n",
        "result = fast_mod_drift(a, b)\n",
        "\n",
        "# Output the result\n",
        "print(result)\n"
      ]
    },
    {
      "cell_type": "code",
      "execution_count": null,
      "metadata": {
        "id": "6Ou8yRTRAShk",
        "outputId": "83fec03c-c751-48b7-c7d3-242b59773103"
      },
      "outputs": [
        {
          "name": "stdout",
          "output_type": "stream",
          "text": [
            "85\n"
          ]
        }
      ],
      "source": [
        "def fast_mod_drift(base, exp):\n",
        "    if exp == 0:\n",
        "        return 1\n",
        "    half = fast_mod_drift(base, exp // 2)\n",
        "\n",
        "    if exp % 2 == 1:\n",
        "        return (base * half * half) % 107\n",
        "    return (half * half) % 107\n",
        "\n",
        "\n",
        "\n",
        "\n",
        "a, b = map(int, input().split())\n",
        "result = fast_mod_drift(a, b)\n",
        "print(result)\n"
      ]
    },
    {
      "cell_type": "code",
      "execution_count": null,
      "metadata": {
        "id": "f-Mjx1JWAShl",
        "outputId": "a3970283-d82c-44a3-802b-9ffdb2fcc14b"
      },
      "outputs": [
        {
          "name": "stdout",
          "output_type": "stream",
          "text": [
            "31\n",
            "511\n",
            "100\n"
          ]
        }
      ],
      "source": [
        "def fast_mod_drift(a, b, m):\n",
        "    # Base case: a^0 = 1\n",
        "    if b == 0:\n",
        "        return 1\n",
        "\n",
        "    # Recursive case: even or odd b\n",
        "    if b % 2 == 0:\n",
        "        half = fast_mod_drift(a, b // 2, m)\n",
        "        return (half * half) % m\n",
        "    else:\n",
        "        return (a * fast_mod_drift(a, b - 1, m)) % m\n",
        "def rec_sum(a, n, m):\n",
        "    result = 0\n",
        "    for i in range(n):\n",
        "        result += fast_mod_drift(a, i, m)\n",
        "    print(result)\n",
        "\n",
        "n = int(input())\n",
        "for _ in range(n):\n",
        "    a, b, c = map(int, input().split())\n",
        "    rec_sum(a, b, c)"
      ]
    },
    {
      "cell_type": "code",
      "execution_count": null,
      "metadata": {
        "id": "fo4HivWcAShl",
        "outputId": "3499bff8-6408-42d2-b444-d237fa503f28"
      },
      "outputs": [
        {
          "name": "stdout",
          "output_type": "stream",
          "text": [
            "2 5 1000\n",
            "62\n",
            "2 9 1000\n",
            "22\n",
            "1 100 30\n",
            "10\n"
          ]
        }
      ],
      "source": [
        "def power(x, n):\n",
        "    # Base case\n",
        "    if n == 0:\n",
        "        return 1\n",
        "    # Recursive case\n",
        "    return x * power(x, n - 1)\n",
        "n = int(input())\n",
        "for _ in range(n):\n",
        "    a, b, m = map(int, input().split())\n",
        "    if a != 1:\n",
        "        pw = power(a, b)\n",
        "        num = a*(pw-1)\n",
        "        den = a-1\n",
        "        print(int(num/den)%m)\n",
        "    elif a == 0 :\n",
        "        print(0)\n",
        "    elif b == 0 :\n",
        "        print(1)\n",
        "    else:\n",
        "        print(b%m)"
      ]
    },
    {
      "cell_type": "code",
      "execution_count": null,
      "metadata": {
        "id": "cvAn-xwBAShl",
        "outputId": "b8c8379a-aa20-4596-8718-0729a65dfa4f"
      },
      "outputs": [
        {
          "name": "stdout",
          "output_type": "stream",
          "text": [
            "106\n"
          ]
        }
      ],
      "source": [
        "def mod(a, b, m=107):\n",
        "    if b == 0 :\n",
        "        return 1\n",
        "    if b%2 == 0 :\n",
        "        x = mod(a, b//2, m)\n",
        "        return (x*x)%m\n",
        "    return (a*mod(a, b-1, m))# %m\n",
        "\n",
        "def solve():\n",
        "    a, b = map(int, input().split())\n",
        "    print(mod(a,b))\n",
        "solve()"
      ]
    },
    {
      "cell_type": "code",
      "execution_count": null,
      "metadata": {
        "id": "i1Ru0utrAShl",
        "outputId": "c74d46aa-59c3-4375-9f8a-ff73efb39921"
      },
      "outputs": [
        {
          "name": "stdout",
          "output_type": "stream",
          "text": [
            "0\n"
          ]
        }
      ],
      "source": [
        "def binary(str, idx1,idx2):\n",
        "    cnt = 0\n",
        "    if idx1 > idx2:\n",
        "        return 0\n",
        "    if idx1 == idx2:\n",
        "        if str[idx1] == str[idx2] == \"1\":\n",
        "            return 1\n",
        "        return 0\n",
        "    if str[idx1] == \"1\":\n",
        "        cnt += 1\n",
        "    if str[idx2] == \"1\":\n",
        "        cnt += 1\n",
        "    return cnt + binary(str, idx1+1, idx2-1)\n",
        "def solve():\n",
        "    x = input()\n",
        "    print(binary(x, 0, len(x)-1))\n",
        "solve()"
      ]
    },
    {
      "cell_type": "code",
      "execution_count": null,
      "metadata": {
        "id": "naDjTj53AShl",
        "outputId": "d97cb30c-e416-473c-d248-fc7ddf0b5957"
      },
      "outputs": [
        {
          "name": "stdout",
          "output_type": "stream",
          "text": [
            "85\n"
          ]
        }
      ],
      "source": [
        "def find_max(arr, left, right, maxBefore):\n",
        "    if left == right:\n",
        "        return maxBefore + arr[left] ** 2\n",
        "\n",
        "    mid = (left + right) // 2\n",
        "\n",
        "    if mid >= left:\n",
        "        updatedMaxBefore = max(maxBefore, arr[mid])\n",
        "    else:\n",
        "        updatedMaxBefore = maxBefore\n",
        "\n",
        "    left_max = find_max(arr, left, mid, maxBefore)\n",
        "    right_max = find_max(arr, mid + 1, right, updatedMaxBefore)\n",
        "\n",
        "    return max(left_max, right_max)\n",
        "\n",
        "\n",
        "n = int(input())\n",
        "temp = list(map(int, input().split()))\n",
        "\n",
        "max_before = temp[0]\n",
        "result = find_max(temp, 1, n - 1, max_before)\n",
        "\n",
        "print(result)\n",
        "\n",
        "\n",
        "\n",
        "\n"
      ]
    },
    {
      "cell_type": "code",
      "execution_count": null,
      "metadata": {
        "id": "wflxcZ6LAShl",
        "outputId": "607b21ce-1aa1-4145-b5e3-641742083736"
      },
      "outputs": [
        {
          "name": "stdout",
          "output_type": "stream",
          "text": [
            "6\n",
            "2 8\n"
          ]
        }
      ],
      "source": [
        "n = int(input())\n",
        "arr = list(map(int, input().split()))\n",
        "\n",
        "maxSum = 0\n",
        "curSum = 0\n",
        "idx1, idx2 = None, None\n",
        "for i in range(n):\n",
        "    curSum += arr[i]\n",
        "    maxSum = max(maxSum, curSum)\n",
        "    if (curSum < 0):\n",
        "        curSum = 0\n",
        "        idx1= i\n",
        "    idx2 = i\n",
        "print(maxSum)\n",
        "print(idx1, idx2)"
      ]
    },
    {
      "cell_type": "code",
      "source": [
        "#leetcode d&c 53\n",
        "def maxSum(arr, n, crSum, mxSum, idx):\n",
        "    if idx == n:\n",
        "        return mxSum\n",
        "    crSum += arr[idx]\n",
        "    mxSum = max(mxSum, crSum)\n",
        "    if (crSum < 0):\n",
        "        crSum = 0\n",
        "    x = maxSum(arr, n, crSum, mxSum, idx+1)\n",
        "    return x\n",
        "n = int(input())\n",
        "arr= list(map(int, input().split()))\n",
        "print(maxSum(arr, n, 0, 0, 0))"
      ],
      "metadata": {
        "id": "PksKTAx3AULg",
        "outputId": "ecaca72a-7234-42db-dc3e-f1a7eaf6e791",
        "colab": {
          "base_uri": "https://localhost:8080/"
        }
      },
      "execution_count": 1,
      "outputs": [
        {
          "output_type": "stream",
          "name": "stdout",
          "text": [
            "5\n",
            "5 4 -1 7 8\n",
            "23\n"
          ]
        }
      ]
    },
    {
      "cell_type": "code",
      "source": [
        "# leetcode d&c 372\n",
        "def superPow(a, b, m=1337):\n",
        "    if b == 0:\n",
        "        return 1\n",
        "    if b%2 == 0:\n",
        "        x = superPow(a, b//2, m)\n",
        "        return (x*x) % m\n",
        "    return (a*superPow(a, b-1, m)) % m\n",
        "a = int(input())  # Number of digits (you can ignore this if you don't need it)\n",
        "b = input()  # Input as a string representing a list, e.g., \"[4, 3, 3, 8, 5, 2]\"\n",
        "\n",
        "# Removing brackets and spaces, and then splitting by comma\n",
        "b = b.strip(\"[]\").replace(\" \", \"\").split(\",\")\n",
        "# Converting strings to integers and joining them\n",
        "result = int(\"\".join(b))\n",
        "# print(result)\n",
        "print(superPow(a, result))"
      ],
      "metadata": {
        "id": "-fFOce-VDl9_"
      },
      "execution_count": null,
      "outputs": []
    }
  ],
  "metadata": {
    "kernelspec": {
      "display_name": "Python 3",
      "language": "python",
      "name": "python3"
    },
    "language_info": {
      "codemirror_mode": {
        "name": "ipython",
        "version": 3
      },
      "file_extension": ".py",
      "mimetype": "text/x-python",
      "name": "python",
      "nbconvert_exporter": "python",
      "pygments_lexer": "ipython3",
      "version": "3.13.2"
    },
    "colab": {
      "provenance": []
    }
  },
  "nbformat": 4,
  "nbformat_minor": 0
}