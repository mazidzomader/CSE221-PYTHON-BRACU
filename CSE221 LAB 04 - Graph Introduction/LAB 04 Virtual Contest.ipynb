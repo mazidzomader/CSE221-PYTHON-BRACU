{
 "cells": [
  {
   "cell_type": "code",
   "execution_count": 4,
   "id": "c2edbe19",
   "metadata": {},
   "outputs": [
    {
     "name": "stdout",
     "output_type": "stream",
     "text": [
      "0 0 9 0 6 0\n",
      "0 0 0 0 0 0\n",
      "0 0 0 7 0 0\n",
      "0 0 0 0 0 1\n",
      "0 0 0 0 0 8\n",
      "6 0 5 0 0 0\n"
     ]
    }
   ],
   "source": [
    "class Matrix:\n",
    "\tdef __init__(self, n):\n",
    "\t\tself.matrix = [ [ 0 for i in range(n)] for j in range (n)]\n",
    "\tdef add_edge(self, s, d, w):\n",
    "\t\tself.matrix[s-1][d-1] = w\n",
    "\tdef print_matrix(self):\n",
    "\t\tfor i in self.matrix:\n",
    "\t\t\tprint(*i)\n",
    "def solve():\n",
    "\tn, m = map(int, input().split())\n",
    "\tG = Matrix(n)\n",
    "\tfor _ in range(m):\n",
    "\t\ts, d, w = map(int, input().split()) \n",
    "\t\tG.add_edge(s, d, w)\n",
    "\tG.print_matrix()\n",
    "solve()"
   ]
  },
  {
   "cell_type": "code",
   "execution_count": 14,
   "id": "618515b9",
   "metadata": {},
   "outputs": [
    {
     "name": "stdout",
     "output_type": "stream",
     "text": [
      "1: (2, 4) \n",
      "2: \n",
      "3: (2, 8) (1, 5) \n",
      "4: (3, 4) (2, 10) \n"
     ]
    }
   ],
   "source": [
    "class Node:\n",
    "\tdef __init__(self, data):\n",
    "\t\tself.data = data\n",
    "\t\tself.next = None\n",
    "class List:\n",
    "\tdef __init__(self, n):\n",
    "\t\tself.node = [None for i in range(n)]\n",
    "\tdef add_edge(self, s, d, w):\n",
    "\t\tif self.node[s-1] == None:\n",
    "\t\t\tself.node[s-1] = Node((d, w))\n",
    "\t\telse:\n",
    "\t\t\ttemp = self.node[s-1]\n",
    "\t\t\twhile temp.next != None:\n",
    "\t\t\t\ttemp = temp.next \n",
    "\t\t\ttemp.next = Node((d, w)) \n",
    "\t\n",
    "\t\t\n",
    "\tdef print_list(self):\n",
    "\t\tfor i in range(len(self.node)):\n",
    "\t\t\tprint(f\"{i+1}:\", end = \" \")\n",
    "\t\t\ttemp = self.node[i]\n",
    "\t\t\twhile temp :\n",
    "\t\t\t\tprint(temp.data, end = \" \")\n",
    "\t\t\t\ttemp = temp.next\n",
    "\t\t\tprint()\n",
    "def solve():\n",
    "\tn, m = map(int, input().split())\n",
    "\ts = list(map(int, input().split()))\n",
    "\td = list(map(int, input().split()))\n",
    "\tw = list(map(int, input().split()))\n",
    "\tG = List(n)\n",
    "\tfor i in range(m):\n",
    "\t\tG.add_edge(s[i], d[i], w[i])\n",
    "\tG.print_list()\n",
    "solve()\n",
    "\t\t\t"
   ]
  },
  {
   "cell_type": "code",
   "execution_count": 4,
   "id": "e9d8d415",
   "metadata": {},
   "outputs": [
    {
     "name": "stdout",
     "output_type": "stream",
     "text": [
      "0 0 0 0 0\n",
      "0 0 1 1 0\n",
      "0 1 0 1 1\n",
      "0 1 1 0 0\n",
      "0 0 1 0 0\n"
     ]
    }
   ],
   "source": [
    "def graph_metamorphosis():\n",
    "    n = int(input())\n",
    "    grid = [[0 for i in range(n)] for j in range(n)]\n",
    "    for i in range(n):\n",
    "        arr = list(map(int, input().split()))\n",
    "        x = arr[0]\n",
    "        temp = arr[1:]\n",
    "        for ii in range(x):\n",
    "            grid[i][temp[ii]] = 1\n",
    "    for i in grid:\n",
    "        print(*i)\n",
    "graph_metamorphosis()"
   ]
  },
  {
   "cell_type": "code",
   "execution_count": 9,
   "id": "f1146a41",
   "metadata": {},
   "outputs": [
    {
     "name": "stdout",
     "output_type": "stream",
     "text": [
      "YES\n"
     ]
    }
   ],
   "source": [
    "class Node:\n",
    "    def __init__(self, n):\n",
    "        self.data = n\n",
    "        self.degree = 0\n",
    "def Konigsberg_bridge():\n",
    "    n, m = map(int, (input().split()))\n",
    "    s = list(map(int, input().split()))\n",
    "    d = list(map(int, input().split()))\n",
    "    all_even = True\n",
    "    exact_two_or_zero = 0\n",
    "    nodes = [Node(i+1) for i in range(n)] \n",
    "    for i in range(m):\n",
    "        nodes[s[i]-1].degree += 1\n",
    "        nodes[d[i]-1].degree += 1\n",
    "    temp = [i.degree for i in nodes]\n",
    "    for i in temp:\n",
    "        if i % 2 == 1:\n",
    "            all_even = False\n",
    "            exact_two_or_zero += 1\n",
    "    if all_even or (exact_two_or_zero == 2 or exact_two_or_zero == 0):\n",
    "        print(\"YES\")\n",
    "    else:\n",
    "        print(\"NO\")\n",
    "Konigsberg_bridge()"
   ]
  },
  {
   "cell_type": "code",
   "execution_count": 11,
   "id": "f493f736",
   "metadata": {},
   "outputs": [
    {
     "name": "stdout",
     "output_type": "stream",
     "text": [
      "2 0 -2 1 -1 "
     ]
    }
   ],
   "source": [
    "class Node:\n",
    "    def __init__(self, n):\n",
    "        self.data = n\n",
    "        self.indegree = 0\n",
    "        self.outdegree = 0\n",
    "\n",
    "def edge_queries():\n",
    "    n, m = map(int, input().split())\n",
    "    s = list(map(int, input().split()))\n",
    "    d = list(map(int, input().split()))\n",
    "\n",
    "    nodes = [Node(i+1) for i in range(n)]\n",
    "    for i in range(m):\n",
    "        nodes[s[i]-1].outdegree += 1\n",
    "        nodes[d[i]-1].indegree += 1\n",
    "    for i in range(n):\n",
    "        print(nodes[i].indegree-nodes[i].outdegree, end = \" \")\n",
    "edge_queries()"
   ]
  },
  {
   "cell_type": "code",
   "execution_count": 20,
   "id": "33a9ee15",
   "metadata": {},
   "outputs": [
    {
     "name": "stdout",
     "output_type": "stream",
     "text": [
      "8\n",
      "1 1\n",
      "1 2\n",
      "1 3\n",
      "2 1\n",
      "2 3\n",
      "3 1\n",
      "3 2\n",
      "3 3\n"
     ]
    }
   ],
   "source": [
    "def Konigsberg_King():\n",
    "    n = int(input())\n",
    "    x, y = map(int, input().split())\n",
    "\n",
    "    directions =[(-1,-1),(-1, 0),(-1,1),(0,-1),(0,1),(1,-1),(1, 0), (1,1)]\n",
    "    temp = []\n",
    "    for i in range(len(directions)):\n",
    "        temp.append((x+directions[i][0], y + directions[i][1]))\n",
    "    valid = []\n",
    "    for i in range(len(temp)):\n",
    "        if (temp[i][0]-1 >= 0 and temp[i][0]-1 < n) and (temp[i][1]-1 >= 0 and temp[i][1]-1 < n):\n",
    "            valid.append(temp[i])\n",
    "    print(len(valid))\n",
    "    for i in valid:\n",
    "        print (i[0], i[1])\n",
    "Konigsberg_King()"
   ]
  },
  {
   "cell_type": "code",
   "execution_count": null,
   "id": "168663ce",
   "metadata": {},
   "outputs": [
    {
     "name": "stdout",
     "output_type": "stream",
     "text": [
      "[[2], [1]]\n",
      "1\n"
     ]
    }
   ],
   "source": [
    "import math\n",
    "def coprime_graph():\n",
    "    n , m = map(int, input().split())\n",
    "    graph = [[] for i in range(n)]\n",
    "    for i in range(n):\n",
    "        for ii in range(n):\n",
    "            if i == ii :\n",
    "                pass\n",
    "            elif math.gcd(i+1, ii+1) == 1:\n",
    "                graph[i].append(ii+1)\n",
    "\n",
    "    \n",
    "    for i in range(m):\n",
    "        x, y = map(int, input().split())\n",
    "        if y <= len(graph[x-1]):\n",
    "            print(graph[x-1][y-1])\n",
    "        else :\n",
    "            print(-1)    \n",
    "coprime_graph()"
   ]
  }
 ],
 "metadata": {
  "kernelspec": {
   "display_name": "Python 3",
   "language": "python",
   "name": "python3"
  },
  "language_info": {
   "codemirror_mode": {
    "name": "ipython",
    "version": 3
   },
   "file_extension": ".py",
   "mimetype": "text/x-python",
   "name": "python",
   "nbconvert_exporter": "python",
   "pygments_lexer": "ipython3",
   "version": "3.13.3"
  }
 },
 "nbformat": 4,
 "nbformat_minor": 5
}
